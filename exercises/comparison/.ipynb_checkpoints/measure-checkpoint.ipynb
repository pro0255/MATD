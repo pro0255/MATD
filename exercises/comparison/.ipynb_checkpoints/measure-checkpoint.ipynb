{
 "cells": [
  {
   "cell_type": "code",
   "execution_count": 187,
   "id": "c64841a8-1aa6-4047-a4d2-aad6cf90ef2a",
   "metadata": {},
   "outputs": [],
   "source": [
    "from search.automat.locate import locate as locateAutomat\n",
    "from search.KMP.locate import locate as locateKMP\n",
    "from search.BMH.locate import locate as locateBMH\n",
    "from search.bruto.locate import locate as locateBruto"
   ]
  },
  {
   "cell_type": "code",
   "execution_count": 272,
   "id": "864e4e76-e069-4459-a8c4-4155e60be4ac",
   "metadata": {},
   "outputs": [],
   "source": [
    "import os\n",
    "import pandas as pd\n",
    "import time"
   ]
  },
  {
   "cell_type": "code",
   "execution_count": 273,
   "id": "157eb58b-a173-409d-8444-fcf0b6994491",
   "metadata": {},
   "outputs": [],
   "source": [
    "def load(path):\n",
    "    with open(path, 'r', encoding='cp1252') as f:\n",
    "        text = f.readlines()\n",
    "        return ''.join(text)"
   ]
  },
  {
   "cell_type": "code",
   "execution_count": 274,
   "id": "79badb9f-d6de-4b38-9474-a2715199cf84",
   "metadata": {},
   "outputs": [],
   "source": [
    "path_dna = './data/dna.50MB'"
   ]
  },
  {
   "cell_type": "code",
   "execution_count": 275,
   "id": "d3954745-8d70-49fc-a6c9-bc08d8f21fc9",
   "metadata": {},
   "outputs": [],
   "source": [
    "path_english = './data/english.50MB'"
   ]
  },
  {
   "cell_type": "code",
   "execution_count": 276,
   "id": "26217a28-24f1-431a-8819-35efdeb088ef",
   "metadata": {},
   "outputs": [],
   "source": [
    "methods = {\n",
    "    #'Automat': locateAutomat,\n",
    "    'Bruto': locateBruto,\n",
    "    'BMH': locateBMH,\n",
    "    'KMP': locateKMP   \n",
    "}"
   ]
  },
  {
   "cell_type": "code",
   "execution_count": 277,
   "id": "df90170a-0396-465b-9538-9d69ad9df4e9",
   "metadata": {},
   "outputs": [],
   "source": [
    "def measure(text, pattern, dic, with_preprocessing=False):\n",
    "    res = {}\n",
    "    for k, v in dic.items():\n",
    "        result = v(pattern, text, with_preprocessing)\n",
    "        res[k] = result[1]\n",
    "    return res"
   ]
  },
  {
   "cell_type": "code",
   "execution_count": 278,
   "id": "00598465-8116-4e9f-9ce4-cac968569224",
   "metadata": {},
   "outputs": [
    {
     "name": "stdout",
     "output_type": "stream",
     "text": [
      "AA\n"
     ]
    }
   ],
   "source": [
    "df = measure(data, pattern, methods)"
   ]
  },
  {
   "cell_type": "code",
   "execution_count": 283,
   "id": "bf610e43-ae95-4073-b98f-125614fcca07",
   "metadata": {},
   "outputs": [],
   "source": [
    "def run(path, patterns, dic, with_preprocessing):\n",
    "    text = load(path)\n",
    "    dictionaries = []\n",
    "    for pattern in patterns:\n",
    "        res = measure(text, pattern, dic, with_preprocessing)\n",
    "        dictionaries.append(res)\n",
    "    return pd.DataFrame(dictionaries, index=patterns)"
   ]
  },
  {
   "cell_type": "code",
   "execution_count": 284,
   "id": "c1c76750-9bc9-49fe-ad40-d68a4b23caa5",
   "metadata": {},
   "outputs": [
    {
     "name": "stdout",
     "output_type": "stream",
     "text": [
      "CCCACTTGGCTCCACAGCCC\n",
      "AGGGATGGCTCCCATCC\n",
      "CTTAAACTGCTGGCTTATCCAAAC\n",
      "ATTATCCACCCTCATGTTGGCC\n",
      "ATTTTGATTTATATCTGGCTGAA\n",
      "TAGCTGCTCCATCTGCAGGAAGTAGAGG\n",
      "TGCAACCTCCACCTCCCCAGTTCAAGT\n",
      "GGTCACTATTATTATCAAG\n"
     ]
    },
    {
     "data": {
      "text/html": [
       "<div>\n",
       "<style scoped>\n",
       "    .dataframe tbody tr th:only-of-type {\n",
       "        vertical-align: middle;\n",
       "    }\n",
       "\n",
       "    .dataframe tbody tr th {\n",
       "        vertical-align: top;\n",
       "    }\n",
       "\n",
       "    .dataframe thead th {\n",
       "        text-align: right;\n",
       "    }\n",
       "</style>\n",
       "<table border=\"1\" class=\"dataframe\">\n",
       "  <thead>\n",
       "    <tr style=\"text-align: right;\">\n",
       "      <th></th>\n",
       "      <th>Bruto</th>\n",
       "      <th>BMH</th>\n",
       "      <th>KMP</th>\n",
       "    </tr>\n",
       "  </thead>\n",
       "  <tbody>\n",
       "    <tr>\n",
       "      <th>CCCACTTGGCTCCACAGCCC</th>\n",
       "      <td>44.460969</td>\n",
       "      <td>5.809873</td>\n",
       "      <td>18.914386</td>\n",
       "    </tr>\n",
       "    <tr>\n",
       "      <th>AGGGATGGCTCCCATCC</th>\n",
       "      <td>45.585976</td>\n",
       "      <td>9.307745</td>\n",
       "      <td>19.188765</td>\n",
       "    </tr>\n",
       "    <tr>\n",
       "      <th>CTTAAACTGCTGGCTTATCCAAAC</th>\n",
       "      <td>44.202784</td>\n",
       "      <td>5.994634</td>\n",
       "      <td>18.782598</td>\n",
       "    </tr>\n",
       "    <tr>\n",
       "      <th>ATTATCCACCCTCATGTTGGCC</th>\n",
       "      <td>45.823442</td>\n",
       "      <td>6.911857</td>\n",
       "      <td>19.461133</td>\n",
       "    </tr>\n",
       "    <tr>\n",
       "      <th>ATTTTGATTTATATCTGGCTGAA</th>\n",
       "      <td>49.080969</td>\n",
       "      <td>13.654981</td>\n",
       "      <td>20.618454</td>\n",
       "    </tr>\n",
       "    <tr>\n",
       "      <th>TAGCTGCTCCATCTGCAGGAAGTAGAGG</th>\n",
       "      <td>45.663560</td>\n",
       "      <td>6.281150</td>\n",
       "      <td>19.583426</td>\n",
       "    </tr>\n",
       "    <tr>\n",
       "      <th>TGCAACCTCCACCTCCCCAGTTCAAGT</th>\n",
       "      <td>48.950497</td>\n",
       "      <td>14.852775</td>\n",
       "      <td>22.110893</td>\n",
       "    </tr>\n",
       "    <tr>\n",
       "      <th>GGTCACTATTATTATCAAG</th>\n",
       "      <td>43.340141</td>\n",
       "      <td>9.071450</td>\n",
       "      <td>19.453113</td>\n",
       "    </tr>\n",
       "  </tbody>\n",
       "</table>\n",
       "</div>"
      ],
      "text/plain": [
       "                                  Bruto        BMH        KMP\n",
       "CCCACTTGGCTCCACAGCCC          44.460969   5.809873  18.914386\n",
       "AGGGATGGCTCCCATCC             45.585976   9.307745  19.188765\n",
       "CTTAAACTGCTGGCTTATCCAAAC      44.202784   5.994634  18.782598\n",
       "ATTATCCACCCTCATGTTGGCC        45.823442   6.911857  19.461133\n",
       "ATTTTGATTTATATCTGGCTGAA       49.080969  13.654981  20.618454\n",
       "TAGCTGCTCCATCTGCAGGAAGTAGAGG  45.663560   6.281150  19.583426\n",
       "TGCAACCTCCACCTCCCCAGTTCAAGT   48.950497  14.852775  22.110893\n",
       "GGTCACTATTATTATCAAG           43.340141   9.071450  19.453113"
      ]
     },
     "execution_count": 284,
     "metadata": {},
     "output_type": "execute_result"
    }
   ],
   "source": [
    "dna_patterns = [\n",
    "    'CCCACTTGGCTCCACAGCCC', \n",
    "    'AGGGATGGCTCCCATCC', \n",
    "    'CTTAAACTGCTGGCTTATCCAAAC', \n",
    "    'ATTATCCACCCTCATGTTGGCC', \n",
    "    'ATTTTGATTTATATCTGGCTGAA', \n",
    "    'TAGCTGCTCCATCTGCAGGAAGTAGAGG',\n",
    "    'TGCAACCTCCACCTCCCCAGTTCAAGT',\n",
    "    'GGTCACTATTATTATCAAG'\n",
    "]\n",
    "dna_res = run(path_dna, dna_patterns, methods, False)\n",
    "dna_res"
   ]
  },
  {
   "cell_type": "code",
   "execution_count": 285,
   "id": "1af8829f-7991-40db-a565-31f1760fe90a",
   "metadata": {},
   "outputs": [
    {
     "ename": "KeyboardInterrupt",
     "evalue": "",
     "output_type": "error",
     "traceback": [
      "\u001b[1;31m---------------------------------------------------------------------------\u001b[0m",
      "\u001b[1;31mKeyboardInterrupt\u001b[0m                         Traceback (most recent call last)",
      "\u001b[1;32m~\\AppData\\Local\\Temp/ipykernel_20276/2328787462.py\u001b[0m in \u001b[0;36m<module>\u001b[1;34m\u001b[0m\n\u001b[0;32m     10\u001b[0m ]\n\u001b[0;32m     11\u001b[0m \u001b[1;33m\u001b[0m\u001b[0m\n\u001b[1;32m---> 12\u001b[1;33m \u001b[0menglish_res\u001b[0m \u001b[1;33m=\u001b[0m  \u001b[0mrun\u001b[0m\u001b[1;33m(\u001b[0m\u001b[0mpath_english\u001b[0m\u001b[1;33m,\u001b[0m \u001b[0menglish_patterns\u001b[0m\u001b[1;33m,\u001b[0m \u001b[0mmethods\u001b[0m\u001b[1;33m,\u001b[0m \u001b[1;32mFalse\u001b[0m\u001b[1;33m)\u001b[0m\u001b[1;33m\u001b[0m\u001b[1;33m\u001b[0m\u001b[0m\n\u001b[0m\u001b[0;32m     13\u001b[0m \u001b[0menglish_res\u001b[0m\u001b[1;33m\u001b[0m\u001b[1;33m\u001b[0m\u001b[0m\n",
      "\u001b[1;32m~\\AppData\\Local\\Temp/ipykernel_20276/1120144824.py\u001b[0m in \u001b[0;36mrun\u001b[1;34m(path, patterns, dic, with_preprocessing)\u001b[0m\n\u001b[0;32m      3\u001b[0m     \u001b[0mdictionaries\u001b[0m \u001b[1;33m=\u001b[0m \u001b[1;33m[\u001b[0m\u001b[1;33m]\u001b[0m\u001b[1;33m\u001b[0m\u001b[1;33m\u001b[0m\u001b[0m\n\u001b[0;32m      4\u001b[0m     \u001b[1;32mfor\u001b[0m \u001b[0mpattern\u001b[0m \u001b[1;32min\u001b[0m \u001b[0mpatterns\u001b[0m\u001b[1;33m:\u001b[0m\u001b[1;33m\u001b[0m\u001b[1;33m\u001b[0m\u001b[0m\n\u001b[1;32m----> 5\u001b[1;33m         \u001b[0mres\u001b[0m \u001b[1;33m=\u001b[0m \u001b[0mmeasure\u001b[0m\u001b[1;33m(\u001b[0m\u001b[0mtext\u001b[0m\u001b[1;33m,\u001b[0m \u001b[0mpattern\u001b[0m\u001b[1;33m,\u001b[0m \u001b[0mdic\u001b[0m\u001b[1;33m,\u001b[0m \u001b[0mwith_preprocessing\u001b[0m\u001b[1;33m)\u001b[0m\u001b[1;33m\u001b[0m\u001b[1;33m\u001b[0m\u001b[0m\n\u001b[0m\u001b[0;32m      6\u001b[0m         \u001b[0mdictionaries\u001b[0m\u001b[1;33m.\u001b[0m\u001b[0mappend\u001b[0m\u001b[1;33m(\u001b[0m\u001b[0mres\u001b[0m\u001b[1;33m)\u001b[0m\u001b[1;33m\u001b[0m\u001b[1;33m\u001b[0m\u001b[0m\n\u001b[0;32m      7\u001b[0m     \u001b[1;32mreturn\u001b[0m \u001b[0mpd\u001b[0m\u001b[1;33m.\u001b[0m\u001b[0mDataFrame\u001b[0m\u001b[1;33m(\u001b[0m\u001b[0mdictionaries\u001b[0m\u001b[1;33m,\u001b[0m \u001b[0mindex\u001b[0m\u001b[1;33m=\u001b[0m\u001b[0mpatterns\u001b[0m\u001b[1;33m)\u001b[0m\u001b[1;33m\u001b[0m\u001b[1;33m\u001b[0m\u001b[0m\n",
      "\u001b[1;32m~\\AppData\\Local\\Temp/ipykernel_20276/1260113992.py\u001b[0m in \u001b[0;36mmeasure\u001b[1;34m(text, pattern, dic, with_preprocessing)\u001b[0m\n\u001b[0;32m      2\u001b[0m     \u001b[0mres\u001b[0m \u001b[1;33m=\u001b[0m \u001b[1;33m{\u001b[0m\u001b[1;33m}\u001b[0m\u001b[1;33m\u001b[0m\u001b[1;33m\u001b[0m\u001b[0m\n\u001b[0;32m      3\u001b[0m     \u001b[1;32mfor\u001b[0m \u001b[0mk\u001b[0m\u001b[1;33m,\u001b[0m \u001b[0mv\u001b[0m \u001b[1;32min\u001b[0m \u001b[0mdic\u001b[0m\u001b[1;33m.\u001b[0m\u001b[0mitems\u001b[0m\u001b[1;33m(\u001b[0m\u001b[1;33m)\u001b[0m\u001b[1;33m:\u001b[0m\u001b[1;33m\u001b[0m\u001b[1;33m\u001b[0m\u001b[0m\n\u001b[1;32m----> 4\u001b[1;33m         \u001b[0mresult\u001b[0m \u001b[1;33m=\u001b[0m \u001b[0mv\u001b[0m\u001b[1;33m(\u001b[0m\u001b[0mpattern\u001b[0m\u001b[1;33m,\u001b[0m \u001b[0mtext\u001b[0m\u001b[1;33m,\u001b[0m \u001b[0mwith_preprocessing\u001b[0m\u001b[1;33m)\u001b[0m\u001b[1;33m\u001b[0m\u001b[1;33m\u001b[0m\u001b[0m\n\u001b[0m\u001b[0;32m      5\u001b[0m         \u001b[0mres\u001b[0m\u001b[1;33m[\u001b[0m\u001b[0mk\u001b[0m\u001b[1;33m]\u001b[0m \u001b[1;33m=\u001b[0m \u001b[0mresult\u001b[0m\u001b[1;33m[\u001b[0m\u001b[1;36m1\u001b[0m\u001b[1;33m]\u001b[0m\u001b[1;33m\u001b[0m\u001b[1;33m\u001b[0m\u001b[0m\n\u001b[0;32m      6\u001b[0m     \u001b[1;32mreturn\u001b[0m \u001b[0mres\u001b[0m\u001b[1;33m\u001b[0m\u001b[1;33m\u001b[0m\u001b[0m\n",
      "\u001b[1;32m~\\Desktop\\university\\iii\\matd\\leactures\\exercises\\comparison\\search\\bruto\\locate.py\u001b[0m in \u001b[0;36mlocate\u001b[1;34m(pattern, text, with_preprocessing)\u001b[0m\n\u001b[0;32m      9\u001b[0m     \u001b[1;32mfor\u001b[0m \u001b[0mi\u001b[0m \u001b[1;32min\u001b[0m \u001b[0mrange\u001b[0m\u001b[1;33m(\u001b[0m\u001b[0mlen\u001b[0m\u001b[1;33m(\u001b[0m\u001b[0mtext\u001b[0m\u001b[1;33m)\u001b[0m\u001b[1;33m)\u001b[0m\u001b[1;33m:\u001b[0m\u001b[1;33m\u001b[0m\u001b[1;33m\u001b[0m\u001b[0m\n\u001b[0;32m     10\u001b[0m         \u001b[0mfounded\u001b[0m \u001b[1;33m=\u001b[0m \u001b[1;32mTrue\u001b[0m\u001b[1;33m\u001b[0m\u001b[1;33m\u001b[0m\u001b[0m\n\u001b[1;32m---> 11\u001b[1;33m         \u001b[1;32mfor\u001b[0m \u001b[0mj\u001b[0m \u001b[1;32min\u001b[0m \u001b[0mrange\u001b[0m\u001b[1;33m(\u001b[0m\u001b[0mlen\u001b[0m\u001b[1;33m(\u001b[0m\u001b[0mpattern\u001b[0m\u001b[1;33m)\u001b[0m\u001b[1;33m)\u001b[0m\u001b[1;33m:\u001b[0m\u001b[1;33m\u001b[0m\u001b[1;33m\u001b[0m\u001b[0m\n\u001b[0m\u001b[0;32m     12\u001b[0m \u001b[1;33m\u001b[0m\u001b[0m\n\u001b[0;32m     13\u001b[0m \u001b[1;33m\u001b[0m\u001b[0m\n",
      "\u001b[1;31mKeyboardInterrupt\u001b[0m: "
     ]
    }
   ],
   "source": [
    "english_patterns = [\n",
    "    'document', \n",
    "    'married', \n",
    "    'suggest', \n",
    "    'inevitably', \n",
    "    'insurrection', \n",
    "    'which', \n",
    "    'proletarian', \n",
    "    'breaking' \n",
    "]\n",
    "\n",
    "english_res =  run(path_english, english_patterns, methods, False)\n",
    "english_res"
   ]
  },
  {
   "cell_type": "code",
   "execution_count": null,
   "id": "a619b8b6-b63c-4c46-8887-54ef90fe1bef",
   "metadata": {},
   "outputs": [],
   "source": []
  },
  {
   "cell_type": "code",
   "execution_count": null,
   "id": "da6f13dd-40f2-41de-bb0a-1b8077c64f63",
   "metadata": {},
   "outputs": [],
   "source": []
  }
 ],
 "metadata": {
  "kernelspec": {
   "display_name": "Python 3 (ipykernel)",
   "language": "python",
   "name": "python3"
  },
  "language_info": {
   "codemirror_mode": {
    "name": "ipython",
    "version": 3
   },
   "file_extension": ".py",
   "mimetype": "text/x-python",
   "name": "python",
   "nbconvert_exporter": "python",
   "pygments_lexer": "ipython3",
   "version": "3.8.6rc1"
  }
 },
 "nbformat": 4,
 "nbformat_minor": 5
}
