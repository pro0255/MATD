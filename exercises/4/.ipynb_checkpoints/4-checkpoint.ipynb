{
 "cells": [
  {
   "cell_type": "code",
   "execution_count": 1,
   "id": "1caf2fbc-fd7d-4bc2-a526-00bb23e66e47",
   "metadata": {},
   "outputs": [],
   "source": [
    "import numpy as np"
   ]
  },
  {
   "cell_type": "code",
   "execution_count": 2,
   "id": "8da07f76-8b30-452a-98f8-ef8137986ead",
   "metadata": {},
   "outputs": [],
   "source": [
    "vocab = ['survey']"
   ]
  },
  {
   "cell_type": "code",
   "execution_count": 3,
   "id": "d53f7606-0bed-42f5-b7f4-dcf45a598cc9",
   "metadata": {},
   "outputs": [],
   "source": [
    "def search(word, pattern, k):    \n",
    "    current_state = 1\n",
    "    \n",
    "    l_word = len(word)\n",
    "    l_target = len(pattern)\n",
    "    \n",
    "    size = np.max([l_word, l_target])\n",
    "    \n",
    "    i = -1\n",
    "    while True:\n",
    "        i += 1\n",
    "        \n",
    "        if current_state % (l_target + 1) == 0:\n",
    "            print('Accept with k', current_k)\n",
    "            break\n",
    "        \n",
    "        current_k = int(current_state / (l_target + 1))\n",
    "        \n",
    "        if current_k > k:\n",
    "            break\n",
    "            \n",
    "        if i > l_target:\n",
    "            print('Nadbytečný symbol')\n",
    "            current_state = current_state + len(pattern) + 1\n",
    "            continue\n",
    "        \n",
    "        if i > l_word or word[i] != pattern[i]:\n",
    "            print('Chybějící symbol')\n",
    "            current_state = current_state + len(pattern) + 2\n",
    "            i += 1\n",
    "            continue\n",
    "        if i > l_word or word[i] != pattern[i]:\n",
    "            print('Neshoda symbolů nebo chybějící symbol')\n",
    "            current_state = current_state + len(pattern) + 2\n",
    "            i += 1\n",
    "            continue\n",
    "            \n",
    "        if word[i] == pattern[i]:\n",
    "            print('Shoda symbolů')\n",
    "            current_state = current_state + 1\n",
    "            continue"
   ]
  },
  {
   "cell_type": "code",
   "execution_count": 4,
   "id": "ffba741c-6ab9-421f-845b-c8e2acdfa7f9",
   "metadata": {},
   "outputs": [
    {
     "name": "stdout",
     "output_type": "stream",
     "text": [
      "Shoda symbolů\n",
      "Shoda symbolů\n",
      "Shoda symbolů\n",
      "Chybějící symbol\n",
      "Chybějící symbol\n"
     ]
    },
    {
     "ename": "IndexError",
     "evalue": "string index out of range",
     "output_type": "error",
     "traceback": [
      "\u001b[1;31m---------------------------------------------------------------------------\u001b[0m",
      "\u001b[1;31mIndexError\u001b[0m                                Traceback (most recent call last)",
      "\u001b[1;32m~\\AppData\\Local\\Temp/ipykernel_18504/1584134978.py\u001b[0m in \u001b[0;36m<module>\u001b[1;34m\u001b[0m\n\u001b[1;32m----> 1\u001b[1;33m \u001b[0msearch\u001b[0m\u001b[1;33m(\u001b[0m\u001b[1;34m\"comuter\"\u001b[0m\u001b[1;33m,\u001b[0m \u001b[1;34m\"computer\"\u001b[0m\u001b[1;33m,\u001b[0m \u001b[1;36m2\u001b[0m\u001b[1;33m)\u001b[0m\u001b[1;33m\u001b[0m\u001b[1;33m\u001b[0m\u001b[0m\n\u001b[0m",
      "\u001b[1;32m~\\AppData\\Local\\Temp/ipykernel_18504/3561974678.py\u001b[0m in \u001b[0;36msearch\u001b[1;34m(word, pattern, k)\u001b[0m\n\u001b[0;32m     25\u001b[0m             \u001b[1;32mcontinue\u001b[0m\u001b[1;33m\u001b[0m\u001b[1;33m\u001b[0m\u001b[0m\n\u001b[0;32m     26\u001b[0m \u001b[1;33m\u001b[0m\u001b[0m\n\u001b[1;32m---> 27\u001b[1;33m         \u001b[1;32mif\u001b[0m \u001b[0mi\u001b[0m \u001b[1;33m>\u001b[0m \u001b[0ml_word\u001b[0m \u001b[1;32mor\u001b[0m \u001b[0mword\u001b[0m\u001b[1;33m[\u001b[0m\u001b[0mi\u001b[0m\u001b[1;33m]\u001b[0m \u001b[1;33m!=\u001b[0m \u001b[0mpattern\u001b[0m\u001b[1;33m[\u001b[0m\u001b[0mi\u001b[0m\u001b[1;33m]\u001b[0m\u001b[1;33m:\u001b[0m\u001b[1;33m\u001b[0m\u001b[1;33m\u001b[0m\u001b[0m\n\u001b[0m\u001b[0;32m     28\u001b[0m             \u001b[0mprint\u001b[0m\u001b[1;33m(\u001b[0m\u001b[1;34m'Chybějící symbol'\u001b[0m\u001b[1;33m)\u001b[0m\u001b[1;33m\u001b[0m\u001b[1;33m\u001b[0m\u001b[0m\n\u001b[0;32m     29\u001b[0m             \u001b[0mcurrent_state\u001b[0m \u001b[1;33m=\u001b[0m \u001b[0mcurrent_state\u001b[0m \u001b[1;33m+\u001b[0m \u001b[0mlen\u001b[0m\u001b[1;33m(\u001b[0m\u001b[0mpattern\u001b[0m\u001b[1;33m)\u001b[0m \u001b[1;33m+\u001b[0m \u001b[1;36m2\u001b[0m\u001b[1;33m\u001b[0m\u001b[1;33m\u001b[0m\u001b[0m\n",
      "\u001b[1;31mIndexError\u001b[0m: string index out of range"
     ]
    }
   ],
   "source": [
    "search(\"comuter\", \"computer\", 2)"
   ]
  }
 ],
 "metadata": {
  "kernelspec": {
   "display_name": "Python 3 (ipykernel)",
   "language": "python",
   "name": "python3"
  },
  "language_info": {
   "codemirror_mode": {
    "name": "ipython",
    "version": 3
   },
   "file_extension": ".py",
   "mimetype": "text/x-python",
   "name": "python",
   "nbconvert_exporter": "python",
   "pygments_lexer": "ipython3",
   "version": "3.8.6rc1"
  }
 },
 "nbformat": 4,
 "nbformat_minor": 5
}
