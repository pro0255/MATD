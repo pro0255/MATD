{
 "cells": [
  {
   "cell_type": "code",
   "execution_count": 12,
   "id": "9a10bcf3-875d-4e23-9d1a-ae41068f376d",
   "metadata": {},
   "outputs": [],
   "source": [
    "import time\n",
    "from nltk.corpus import stopwords\n",
    "from nltk.tokenize import regexp\n",
    "from nltk.stem import PorterStemmer\n",
    "from IPython.display import Markdown, display\n",
    "\n",
    "stop_words = set(stopwords.words('english'))\n",
    "\n",
    "def preprocess(text, stem=False):\n",
    "    start = time.perf_counter()\n",
    "\n",
    "    ps = PorterStemmer()\n",
    "    word_tokens = regexp.regexp_tokenize(text.lower(), r'\\W+', gaps=True)\n",
    "\n",
    "    result = ' '.join([ps.stem(w) if stem else w for w in word_tokens if not w in stop_words])\n",
    "\n",
    "    stop = time.perf_counter()\n",
    "    return result, stop-start"
   ]
  },
  {
   "cell_type": "code",
   "execution_count": 13,
   "id": "422d2b68-ec13-4bc1-829b-7dd36ca104e8",
   "metadata": {},
   "outputs": [
    {
     "name": "stdout",
     "output_type": "stream",
     "text": [
      "sample sentence showing stop words filtration\n",
      "sampl sentenc show stop word filtrat\n"
     ]
    }
   ],
   "source": [
    "result, time_elapsed = preprocess('This is a sample sentence, showing off the stop words filtration.', stem=False)\n",
    "result_stemmed, time_elapsed = preprocess('This is a sample sentence, showing off the stop words filtration.', stem=True)\n",
    "\n",
    "print(result)\n",
    "print(result_stemmed)"
   ]
  },
  {
   "cell_type": "code",
   "execution_count": 15,
   "id": "3d0037df-2155-4f4d-a64d-75896a0b0747",
   "metadata": {},
   "outputs": [
    {
     "name": "stdout",
     "output_type": "stream",
     "text": [
      "90\n"
     ]
    },
    {
     "data": {
      "text/markdown": [
       "**2/90 file processed** - time elapsed 0.0129 seconds (with stemming 0.2776 seconds)"
      ],
      "text/plain": [
       "<IPython.core.display.Markdown object>"
      ]
     },
     "metadata": {},
     "output_type": "display_data"
    },
    {
     "data": {
      "text/markdown": [
       "**3/90 file processed** - time elapsed 0.4760 seconds (with stemming 9.1965 seconds)"
      ],
      "text/plain": [
       "<IPython.core.display.Markdown object>"
      ]
     },
     "metadata": {},
     "output_type": "display_data"
    },
    {
     "data": {
      "text/markdown": [
       "**4/90 file processed** - time elapsed 0.5631 seconds (with stemming 12.6457 seconds)"
      ],
      "text/plain": [
       "<IPython.core.display.Markdown object>"
      ]
     },
     "metadata": {},
     "output_type": "display_data"
    },
    {
     "data": {
      "text/markdown": [
       "**5/90 file processed** - time elapsed 0.0300 seconds (with stemming 0.7452 seconds)"
      ],
      "text/plain": [
       "<IPython.core.display.Markdown object>"
      ]
     },
     "metadata": {},
     "output_type": "display_data"
    },
    {
     "data": {
      "text/markdown": [
       "**6/90 file processed** - time elapsed 0.0389 seconds (with stemming 0.8835 seconds)"
      ],
      "text/plain": [
       "<IPython.core.display.Markdown object>"
      ]
     },
     "metadata": {},
     "output_type": "display_data"
    },
    {
     "data": {
      "text/markdown": [
       "**7/90 file processed** - time elapsed 0.0994 seconds (with stemming 2.2820 seconds)"
      ],
      "text/plain": [
       "<IPython.core.display.Markdown object>"
      ]
     },
     "metadata": {},
     "output_type": "display_data"
    },
    {
     "data": {
      "text/markdown": [
       "**8/90 file processed** - time elapsed 0.0972 seconds (with stemming 1.8732 seconds)"
      ],
      "text/plain": [
       "<IPython.core.display.Markdown object>"
      ]
     },
     "metadata": {},
     "output_type": "display_data"
    },
    {
     "data": {
      "text/markdown": [
       "**9/90 file processed** - time elapsed 0.0219 seconds (with stemming 0.4978 seconds)"
      ],
      "text/plain": [
       "<IPython.core.display.Markdown object>"
      ]
     },
     "metadata": {},
     "output_type": "display_data"
    },
    {
     "data": {
      "text/markdown": [
       "**10/90 file processed** - time elapsed 0.1245 seconds (with stemming 2.4143 seconds)"
      ],
      "text/plain": [
       "<IPython.core.display.Markdown object>"
      ]
     },
     "metadata": {},
     "output_type": "display_data"
    },
    {
     "data": {
      "text/markdown": [
       "**11/90 file processed** - time elapsed 0.0659 seconds (with stemming 1.4428 seconds)"
      ],
      "text/plain": [
       "<IPython.core.display.Markdown object>"
      ]
     },
     "metadata": {},
     "output_type": "display_data"
    },
    {
     "data": {
      "text/markdown": [
       "**12/90 file processed** - time elapsed 0.0613 seconds (with stemming 1.3587 seconds)"
      ],
      "text/plain": [
       "<IPython.core.display.Markdown object>"
      ]
     },
     "metadata": {},
     "output_type": "display_data"
    },
    {
     "data": {
      "text/markdown": [
       "**13/90 file processed** - time elapsed 0.0028 seconds (with stemming 0.0572 seconds)"
      ],
      "text/plain": [
       "<IPython.core.display.Markdown object>"
      ]
     },
     "metadata": {},
     "output_type": "display_data"
    },
    {
     "data": {
      "text/markdown": [
       "**14/90 file processed** - time elapsed 0.1246 seconds (with stemming 2.7232 seconds)"
      ],
      "text/plain": [
       "<IPython.core.display.Markdown object>"
      ]
     },
     "metadata": {},
     "output_type": "display_data"
    },
    {
     "data": {
      "text/markdown": [
       "**15/90 file processed** - time elapsed 0.0236 seconds (with stemming 0.5668 seconds)"
      ],
      "text/plain": [
       "<IPython.core.display.Markdown object>"
      ]
     },
     "metadata": {},
     "output_type": "display_data"
    },
    {
     "data": {
      "text/markdown": [
       "**16/90 file processed** - time elapsed 0.0521 seconds (with stemming 1.2523 seconds)"
      ],
      "text/plain": [
       "<IPython.core.display.Markdown object>"
      ]
     },
     "metadata": {},
     "output_type": "display_data"
    },
    {
     "data": {
      "text/markdown": [
       "**17/90 file processed** - time elapsed 0.0617 seconds (with stemming 1.3331 seconds)"
      ],
      "text/plain": [
       "<IPython.core.display.Markdown object>"
      ]
     },
     "metadata": {},
     "output_type": "display_data"
    },
    {
     "data": {
      "text/markdown": [
       "**18/90 file processed** - time elapsed 0.1225 seconds (with stemming 2.2696 seconds)"
      ],
      "text/plain": [
       "<IPython.core.display.Markdown object>"
      ]
     },
     "metadata": {},
     "output_type": "display_data"
    },
    {
     "data": {
      "text/markdown": [
       "**19/90 file processed** - time elapsed 0.1119 seconds (with stemming 2.2740 seconds)"
      ],
      "text/plain": [
       "<IPython.core.display.Markdown object>"
      ]
     },
     "metadata": {},
     "output_type": "display_data"
    },
    {
     "data": {
      "text/markdown": [
       "**20/90 file processed** - time elapsed 0.0960 seconds (with stemming 2.3920 seconds)"
      ],
      "text/plain": [
       "<IPython.core.display.Markdown object>"
      ]
     },
     "metadata": {},
     "output_type": "display_data"
    },
    {
     "data": {
      "text/markdown": [
       "**21/90 file processed** - time elapsed 0.0105 seconds (with stemming 0.2142 seconds)"
      ],
      "text/plain": [
       "<IPython.core.display.Markdown object>"
      ]
     },
     "metadata": {},
     "output_type": "display_data"
    },
    {
     "data": {
      "text/markdown": [
       "**22/90 file processed** - time elapsed 0.0567 seconds (with stemming 1.1264 seconds)"
      ],
      "text/plain": [
       "<IPython.core.display.Markdown object>"
      ]
     },
     "metadata": {},
     "output_type": "display_data"
    },
    {
     "data": {
      "text/markdown": [
       "**23/90 file processed** - time elapsed 0.0493 seconds (with stemming 0.9857 seconds)"
      ],
      "text/plain": [
       "<IPython.core.display.Markdown object>"
      ]
     },
     "metadata": {},
     "output_type": "display_data"
    },
    {
     "data": {
      "text/markdown": [
       "**24/90 file processed** - time elapsed 0.0918 seconds (with stemming 2.0761 seconds)"
      ],
      "text/plain": [
       "<IPython.core.display.Markdown object>"
      ]
     },
     "metadata": {},
     "output_type": "display_data"
    },
    {
     "data": {
      "text/markdown": [
       "**25/90 file processed** - time elapsed 0.0323 seconds (with stemming 0.7752 seconds)"
      ],
      "text/plain": [
       "<IPython.core.display.Markdown object>"
      ]
     },
     "metadata": {},
     "output_type": "display_data"
    },
    {
     "data": {
      "text/markdown": [
       "**26/90 file processed** - time elapsed 0.4511 seconds (with stemming 10.1545 seconds)"
      ],
      "text/plain": [
       "<IPython.core.display.Markdown object>"
      ]
     },
     "metadata": {},
     "output_type": "display_data"
    },
    {
     "data": {
      "text/markdown": [
       "**27/90 file processed** - time elapsed 0.0323 seconds (with stemming 0.5292 seconds)"
      ],
      "text/plain": [
       "<IPython.core.display.Markdown object>"
      ]
     },
     "metadata": {},
     "output_type": "display_data"
    },
    {
     "data": {
      "text/markdown": [
       "**28/90 file processed** - time elapsed 0.2366 seconds (with stemming 2.6875 seconds)"
      ],
      "text/plain": [
       "<IPython.core.display.Markdown object>"
      ]
     },
     "metadata": {},
     "output_type": "display_data"
    },
    {
     "data": {
      "text/markdown": [
       "**29/90 file processed** - time elapsed 0.1169 seconds (with stemming 2.4355 seconds)"
      ],
      "text/plain": [
       "<IPython.core.display.Markdown object>"
      ]
     },
     "metadata": {},
     "output_type": "display_data"
    },
    {
     "data": {
      "text/markdown": [
       "**30/90 file processed** - time elapsed 0.0706 seconds (with stemming 1.5559 seconds)"
      ],
      "text/plain": [
       "<IPython.core.display.Markdown object>"
      ]
     },
     "metadata": {},
     "output_type": "display_data"
    },
    {
     "data": {
      "text/markdown": [
       "**31/90 file processed** - time elapsed 0.0871 seconds (with stemming 1.9717 seconds)"
      ],
      "text/plain": [
       "<IPython.core.display.Markdown object>"
      ]
     },
     "metadata": {},
     "output_type": "display_data"
    },
    {
     "data": {
      "text/markdown": [
       "**32/90 file processed** - time elapsed 0.1038 seconds (with stemming 2.2235 seconds)"
      ],
      "text/plain": [
       "<IPython.core.display.Markdown object>"
      ]
     },
     "metadata": {},
     "output_type": "display_data"
    },
    {
     "data": {
      "text/markdown": [
       "**33/90 file processed** - time elapsed 0.2336 seconds (with stemming 5.4062 seconds)"
      ],
      "text/plain": [
       "<IPython.core.display.Markdown object>"
      ]
     },
     "metadata": {},
     "output_type": "display_data"
    },
    {
     "data": {
      "text/markdown": [
       "**34/90 file processed** - time elapsed 0.0171 seconds (with stemming 0.4183 seconds)"
      ],
      "text/plain": [
       "<IPython.core.display.Markdown object>"
      ]
     },
     "metadata": {},
     "output_type": "display_data"
    },
    {
     "data": {
      "text/markdown": [
       "**35/90 file processed** - time elapsed 0.0507 seconds (with stemming 0.7665 seconds)"
      ],
      "text/plain": [
       "<IPython.core.display.Markdown object>"
      ]
     },
     "metadata": {},
     "output_type": "display_data"
    },
    {
     "data": {
      "text/markdown": [
       "**36/90 file processed** - time elapsed 0.1957 seconds (with stemming 4.0445 seconds)"
      ],
      "text/plain": [
       "<IPython.core.display.Markdown object>"
      ]
     },
     "metadata": {},
     "output_type": "display_data"
    },
    {
     "data": {
      "text/markdown": [
       "**37/90 file processed** - time elapsed 0.1163 seconds (with stemming 2.5273 seconds)"
      ],
      "text/plain": [
       "<IPython.core.display.Markdown object>"
      ]
     },
     "metadata": {},
     "output_type": "display_data"
    },
    {
     "data": {
      "text/markdown": [
       "**38/90 file processed** - time elapsed 0.1496 seconds (with stemming 3.0616 seconds)"
      ],
      "text/plain": [
       "<IPython.core.display.Markdown object>"
      ]
     },
     "metadata": {},
     "output_type": "display_data"
    },
    {
     "data": {
      "text/markdown": [
       "**39/90 file processed** - time elapsed 0.1324 seconds (with stemming 2.7095 seconds)"
      ],
      "text/plain": [
       "<IPython.core.display.Markdown object>"
      ]
     },
     "metadata": {},
     "output_type": "display_data"
    },
    {
     "data": {
      "text/markdown": [
       "**40/90 file processed** - time elapsed 0.0380 seconds (with stemming 0.8536 seconds)"
      ],
      "text/plain": [
       "<IPython.core.display.Markdown object>"
      ]
     },
     "metadata": {},
     "output_type": "display_data"
    },
    {
     "data": {
      "text/markdown": [
       "**41/90 file processed** - time elapsed 0.0547 seconds (with stemming 1.2361 seconds)"
      ],
      "text/plain": [
       "<IPython.core.display.Markdown object>"
      ]
     },
     "metadata": {},
     "output_type": "display_data"
    },
    {
     "data": {
      "text/markdown": [
       "**42/90 file processed** - time elapsed 0.1411 seconds (with stemming 2.2779 seconds)"
      ],
      "text/plain": [
       "<IPython.core.display.Markdown object>"
      ]
     },
     "metadata": {},
     "output_type": "display_data"
    },
    {
     "data": {
      "text/markdown": [
       "**43/90 file processed** - time elapsed 0.0248 seconds (with stemming 0.6772 seconds)"
      ],
      "text/plain": [
       "<IPython.core.display.Markdown object>"
      ]
     },
     "metadata": {},
     "output_type": "display_data"
    },
    {
     "data": {
      "text/markdown": [
       "**44/90 file processed** - time elapsed 0.0809 seconds (with stemming 2.1769 seconds)"
      ],
      "text/plain": [
       "<IPython.core.display.Markdown object>"
      ]
     },
     "metadata": {},
     "output_type": "display_data"
    },
    {
     "data": {
      "text/markdown": [
       "**45/90 file processed** - time elapsed 0.0453 seconds (with stemming 1.1152 seconds)"
      ],
      "text/plain": [
       "<IPython.core.display.Markdown object>"
      ]
     },
     "metadata": {},
     "output_type": "display_data"
    },
    {
     "data": {
      "text/markdown": [
       "**46/90 file processed** - time elapsed 0.0370 seconds (with stemming 0.8229 seconds)"
      ],
      "text/plain": [
       "<IPython.core.display.Markdown object>"
      ]
     },
     "metadata": {},
     "output_type": "display_data"
    },
    {
     "data": {
      "text/markdown": [
       "**47/90 file processed** - time elapsed 0.2065 seconds (with stemming 4.3872 seconds)"
      ],
      "text/plain": [
       "<IPython.core.display.Markdown object>"
      ]
     },
     "metadata": {},
     "output_type": "display_data"
    },
    {
     "data": {
      "text/markdown": [
       "**48/90 file processed** - time elapsed 0.0462 seconds (with stemming 0.8242 seconds)"
      ],
      "text/plain": [
       "<IPython.core.display.Markdown object>"
      ]
     },
     "metadata": {},
     "output_type": "display_data"
    },
    {
     "data": {
      "text/markdown": [
       "**49/90 file processed** - time elapsed 0.0615 seconds (with stemming 1.4941 seconds)"
      ],
      "text/plain": [
       "<IPython.core.display.Markdown object>"
      ]
     },
     "metadata": {},
     "output_type": "display_data"
    },
    {
     "data": {
      "text/markdown": [
       "**50/90 file processed** - time elapsed 0.1026 seconds (with stemming 2.5265 seconds)"
      ],
      "text/plain": [
       "<IPython.core.display.Markdown object>"
      ]
     },
     "metadata": {},
     "output_type": "display_data"
    },
    {
     "data": {
      "text/markdown": [
       "**51/90 file processed** - time elapsed 0.1275 seconds (with stemming 2.6859 seconds)"
      ],
      "text/plain": [
       "<IPython.core.display.Markdown object>"
      ]
     },
     "metadata": {},
     "output_type": "display_data"
    },
    {
     "data": {
      "text/markdown": [
       "**52/90 file processed** - time elapsed 0.0679 seconds (with stemming 1.7399 seconds)"
      ],
      "text/plain": [
       "<IPython.core.display.Markdown object>"
      ]
     },
     "metadata": {},
     "output_type": "display_data"
    },
    {
     "data": {
      "text/markdown": [
       "**53/90 file processed** - time elapsed 0.0599 seconds (with stemming 1.3032 seconds)"
      ],
      "text/plain": [
       "<IPython.core.display.Markdown object>"
      ]
     },
     "metadata": {},
     "output_type": "display_data"
    },
    {
     "data": {
      "text/markdown": [
       "**54/90 file processed** - time elapsed 0.1621 seconds (with stemming 3.3843 seconds)"
      ],
      "text/plain": [
       "<IPython.core.display.Markdown object>"
      ]
     },
     "metadata": {},
     "output_type": "display_data"
    },
    {
     "data": {
      "text/markdown": [
       "**55/90 file processed** - time elapsed 0.0283 seconds (with stemming 0.6754 seconds)"
      ],
      "text/plain": [
       "<IPython.core.display.Markdown object>"
      ]
     },
     "metadata": {},
     "output_type": "display_data"
    },
    {
     "data": {
      "text/markdown": [
       "**56/90 file processed** - time elapsed 0.0649 seconds (with stemming 1.9908 seconds)"
      ],
      "text/plain": [
       "<IPython.core.display.Markdown object>"
      ]
     },
     "metadata": {},
     "output_type": "display_data"
    },
    {
     "data": {
      "text/markdown": [
       "**57/90 file processed** - time elapsed 0.0375 seconds (with stemming 1.0171 seconds)"
      ],
      "text/plain": [
       "<IPython.core.display.Markdown object>"
      ]
     },
     "metadata": {},
     "output_type": "display_data"
    },
    {
     "data": {
      "text/markdown": [
       "**58/90 file processed** - time elapsed 0.2205 seconds (with stemming 6.1782 seconds)"
      ],
      "text/plain": [
       "<IPython.core.display.Markdown object>"
      ]
     },
     "metadata": {},
     "output_type": "display_data"
    },
    {
     "data": {
      "text/markdown": [
       "**59/90 file processed** - time elapsed 0.0328 seconds (with stemming 0.8299 seconds)"
      ],
      "text/plain": [
       "<IPython.core.display.Markdown object>"
      ]
     },
     "metadata": {},
     "output_type": "display_data"
    },
    {
     "data": {
      "text/markdown": [
       "**60/90 file processed** - time elapsed 0.0464 seconds (with stemming 1.1795 seconds)"
      ],
      "text/plain": [
       "<IPython.core.display.Markdown object>"
      ]
     },
     "metadata": {},
     "output_type": "display_data"
    },
    {
     "data": {
      "text/markdown": [
       "**61/90 file processed** - time elapsed 0.0665 seconds (with stemming 1.5605 seconds)"
      ],
      "text/plain": [
       "<IPython.core.display.Markdown object>"
      ]
     },
     "metadata": {},
     "output_type": "display_data"
    },
    {
     "data": {
      "text/markdown": [
       "**62/90 file processed** - time elapsed 0.1119 seconds (with stemming 2.5599 seconds)"
      ],
      "text/plain": [
       "<IPython.core.display.Markdown object>"
      ]
     },
     "metadata": {},
     "output_type": "display_data"
    },
    {
     "data": {
      "text/markdown": [
       "**63/90 file processed** - time elapsed 0.0934 seconds (with stemming 1.2718 seconds)"
      ],
      "text/plain": [
       "<IPython.core.display.Markdown object>"
      ]
     },
     "metadata": {},
     "output_type": "display_data"
    },
    {
     "data": {
      "text/markdown": [
       "**64/90 file processed** - time elapsed 0.0525 seconds (with stemming 0.8306 seconds)"
      ],
      "text/plain": [
       "<IPython.core.display.Markdown object>"
      ]
     },
     "metadata": {},
     "output_type": "display_data"
    },
    {
     "data": {
      "text/markdown": [
       "**65/90 file processed** - time elapsed 0.0559 seconds (with stemming 1.3115 seconds)"
      ],
      "text/plain": [
       "<IPython.core.display.Markdown object>"
      ]
     },
     "metadata": {},
     "output_type": "display_data"
    },
    {
     "data": {
      "text/markdown": [
       "**66/90 file processed** - time elapsed 0.0124 seconds (with stemming 0.3330 seconds)"
      ],
      "text/plain": [
       "<IPython.core.display.Markdown object>"
      ]
     },
     "metadata": {},
     "output_type": "display_data"
    },
    {
     "data": {
      "text/markdown": [
       "**67/90 file processed** - time elapsed 0.0207 seconds (with stemming 0.6228 seconds)"
      ],
      "text/plain": [
       "<IPython.core.display.Markdown object>"
      ]
     },
     "metadata": {},
     "output_type": "display_data"
    },
    {
     "data": {
      "text/markdown": [
       "**68/90 file processed** - time elapsed 0.1807 seconds (with stemming 2.6636 seconds)"
      ],
      "text/plain": [
       "<IPython.core.display.Markdown object>"
      ]
     },
     "metadata": {},
     "output_type": "display_data"
    },
    {
     "data": {
      "text/markdown": [
       "**69/90 file processed** - time elapsed 0.0770 seconds (with stemming 2.3736 seconds)"
      ],
      "text/plain": [
       "<IPython.core.display.Markdown object>"
      ]
     },
     "metadata": {},
     "output_type": "display_data"
    },
    {
     "data": {
      "text/markdown": [
       "**70/90 file processed** - time elapsed 0.0256 seconds (with stemming 0.6758 seconds)"
      ],
      "text/plain": [
       "<IPython.core.display.Markdown object>"
      ]
     },
     "metadata": {},
     "output_type": "display_data"
    },
    {
     "data": {
      "text/markdown": [
       "**71/90 file processed** - time elapsed 0.0807 seconds (with stemming 1.6011 seconds)"
      ],
      "text/plain": [
       "<IPython.core.display.Markdown object>"
      ]
     },
     "metadata": {},
     "output_type": "display_data"
    },
    {
     "data": {
      "text/markdown": [
       "**72/90 file processed** - time elapsed 0.0563 seconds (with stemming 1.3966 seconds)"
      ],
      "text/plain": [
       "<IPython.core.display.Markdown object>"
      ]
     },
     "metadata": {},
     "output_type": "display_data"
    },
    {
     "data": {
      "text/markdown": [
       "**73/90 file processed** - time elapsed 0.0306 seconds (with stemming 0.8065 seconds)"
      ],
      "text/plain": [
       "<IPython.core.display.Markdown object>"
      ]
     },
     "metadata": {},
     "output_type": "display_data"
    },
    {
     "data": {
      "text/markdown": [
       "**74/90 file processed** - time elapsed 0.0673 seconds (with stemming 2.0167 seconds)"
      ],
      "text/plain": [
       "<IPython.core.display.Markdown object>"
      ]
     },
     "metadata": {},
     "output_type": "display_data"
    },
    {
     "data": {
      "text/markdown": [
       "**75/90 file processed** - time elapsed 0.0883 seconds (with stemming 1.7815 seconds)"
      ],
      "text/plain": [
       "<IPython.core.display.Markdown object>"
      ]
     },
     "metadata": {},
     "output_type": "display_data"
    },
    {
     "data": {
      "text/markdown": [
       "**76/90 file processed** - time elapsed 0.0093 seconds (with stemming 0.1892 seconds)"
      ],
      "text/plain": [
       "<IPython.core.display.Markdown object>"
      ]
     },
     "metadata": {},
     "output_type": "display_data"
    },
    {
     "data": {
      "text/markdown": [
       "**77/90 file processed** - time elapsed 0.0367 seconds (with stemming 0.9153 seconds)"
      ],
      "text/plain": [
       "<IPython.core.display.Markdown object>"
      ]
     },
     "metadata": {},
     "output_type": "display_data"
    },
    {
     "data": {
      "text/markdown": [
       "**78/90 file processed** - time elapsed 0.0540 seconds (with stemming 1.2515 seconds)"
      ],
      "text/plain": [
       "<IPython.core.display.Markdown object>"
      ]
     },
     "metadata": {},
     "output_type": "display_data"
    },
    {
     "data": {
      "text/markdown": [
       "**79/90 file processed** - time elapsed 0.0949 seconds (with stemming 1.8585 seconds)"
      ],
      "text/plain": [
       "<IPython.core.display.Markdown object>"
      ]
     },
     "metadata": {},
     "output_type": "display_data"
    },
    {
     "data": {
      "text/markdown": [
       "**80/90 file processed** - time elapsed 0.0952 seconds (with stemming 1.9329 seconds)"
      ],
      "text/plain": [
       "<IPython.core.display.Markdown object>"
      ]
     },
     "metadata": {},
     "output_type": "display_data"
    },
    {
     "data": {
      "text/markdown": [
       "**81/90 file processed** - time elapsed 0.0659 seconds (with stemming 1.5539 seconds)"
      ],
      "text/plain": [
       "<IPython.core.display.Markdown object>"
      ]
     },
     "metadata": {},
     "output_type": "display_data"
    },
    {
     "data": {
      "text/markdown": [
       "**82/90 file processed** - time elapsed 0.1408 seconds (with stemming 3.4505 seconds)"
      ],
      "text/plain": [
       "<IPython.core.display.Markdown object>"
      ]
     },
     "metadata": {},
     "output_type": "display_data"
    },
    {
     "data": {
      "text/markdown": [
       "**83/90 file processed** - time elapsed 0.0690 seconds (with stemming 1.6860 seconds)"
      ],
      "text/plain": [
       "<IPython.core.display.Markdown object>"
      ]
     },
     "metadata": {},
     "output_type": "display_data"
    },
    {
     "data": {
      "text/markdown": [
       "**84/90 file processed** - time elapsed 0.0620 seconds (with stemming 1.6140 seconds)"
      ],
      "text/plain": [
       "<IPython.core.display.Markdown object>"
      ]
     },
     "metadata": {},
     "output_type": "display_data"
    },
    {
     "data": {
      "text/markdown": [
       "**85/90 file processed** - time elapsed 0.1004 seconds (with stemming 2.1098 seconds)"
      ],
      "text/plain": [
       "<IPython.core.display.Markdown object>"
      ]
     },
     "metadata": {},
     "output_type": "display_data"
    },
    {
     "data": {
      "text/markdown": [
       "**86/90 file processed** - time elapsed 0.0262 seconds (with stemming 0.5347 seconds)"
      ],
      "text/plain": [
       "<IPython.core.display.Markdown object>"
      ]
     },
     "metadata": {},
     "output_type": "display_data"
    },
    {
     "data": {
      "text/markdown": [
       "**87/90 file processed** - time elapsed 0.0184 seconds (with stemming 0.3901 seconds)"
      ],
      "text/plain": [
       "<IPython.core.display.Markdown object>"
      ]
     },
     "metadata": {},
     "output_type": "display_data"
    },
    {
     "data": {
      "text/markdown": [
       "**88/90 file processed** - time elapsed 0.0224 seconds (with stemming 0.6750 seconds)"
      ],
      "text/plain": [
       "<IPython.core.display.Markdown object>"
      ]
     },
     "metadata": {},
     "output_type": "display_data"
    },
    {
     "data": {
      "text/markdown": [
       "**89/90 file processed** - time elapsed 0.0491 seconds (with stemming 1.2108 seconds)"
      ],
      "text/plain": [
       "<IPython.core.display.Markdown object>"
      ]
     },
     "metadata": {},
     "output_type": "display_data"
    },
    {
     "data": {
      "text/markdown": [
       "**90/90 file processed** - time elapsed 0.1167 seconds (with stemming 2.5950 seconds)"
      ],
      "text/plain": [
       "<IPython.core.display.Markdown object>"
      ]
     },
     "metadata": {},
     "output_type": "display_data"
    }
   ],
   "source": [
    "import os\n",
    "\n",
    "files = os.listdir('data/gutenberg')\n",
    "files_count = len(files)\n",
    "\n",
    "print(files_count)\n",
    "\n",
    "for i, file_name in enumerate(files):\n",
    "    \n",
    "    if '.txt' not in file_name:\n",
    "        continue\n",
    "    \n",
    "    with open(f'data/gutenberg/{file_name}', 'r', encoding= 'utf-8', errors='ignore') as file:\n",
    "        original_text = file.read()\n",
    "\n",
    "        preprocessed_text, time_elapsed = preprocess(original_text)\n",
    "        stemmed_text, time_elapsed_stemming = preprocess(original_text, stem=True)\n",
    "\n",
    "        file_without_extension = os.path.splitext(file_name)[0]\n",
    "\n",
    "        with open(f'preprocessed/gutenberg/{file_without_extension}.txt', 'w', encoding= 'utf-8', errors='ignore') as f:\n",
    "            f.write(preprocessed_text)\n",
    "        \n",
    "        with open(f'stemmed/gutenberg/{file_without_extension}.txt', 'w', encoding= 'utf-8', errors='ignore') as f:\n",
    "            f.write(stemmed_text)\n",
    "\n",
    "        display(Markdown((f'**{i+1}/{files_count} file processed** - time elapsed {time_elapsed:0.4f} seconds (with stemming {time_elapsed_stemming:0.4f} seconds)')))"
   ]
  }
 ],
 "metadata": {
  "kernelspec": {
   "display_name": "Python 3 (ipykernel)",
   "language": "python",
   "name": "python3"
  },
  "language_info": {
   "codemirror_mode": {
    "name": "ipython",
    "version": 3
   },
   "file_extension": ".py",
   "mimetype": "text/x-python",
   "name": "python",
   "nbconvert_exporter": "python",
   "pygments_lexer": "ipython3",
   "version": "3.8.6rc1"
  }
 },
 "nbformat": 4,
 "nbformat_minor": 5
}
