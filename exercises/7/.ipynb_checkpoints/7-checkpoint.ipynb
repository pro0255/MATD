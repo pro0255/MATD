{
 "cells": [
  {
   "cell_type": "code",
   "execution_count": 1,
   "id": "73ee2ebc-e60c-4fa2-ab48-e5b583599f24",
   "metadata": {},
   "outputs": [],
   "source": [
    "import math\n",
    "import sys\n",
    "import numpy as np\n",
    "import json"
   ]
  },
  {
   "cell_type": "code",
   "execution_count": 2,
   "id": "38ca39ec-5821-45d7-9672-a85b076380f0",
   "metadata": {},
   "outputs": [],
   "source": [
    "def unary_fac(n):\n",
    "    return '0' * n + '1'"
   ]
  },
  {
   "cell_type": "code",
   "execution_count": 3,
   "id": "ef43e3c9-c410-46e6-99b2-65a7060b7aec",
   "metadata": {},
   "outputs": [],
   "source": [
    "def binary_fac(n, l):\n",
    "    s = '{0:0%db}' % l\n",
    "    return s.format(n)"
   ]
  },
  {
   "cell_type": "code",
   "execution_count": 4,
   "id": "4373e4ee-ce84-43e5-bdd2-4d46afb36035",
   "metadata": {},
   "outputs": [],
   "source": [
    "class Elias:\n",
    "    def __init__(self):\n",
    "        pass\n",
    "    \n",
    "    def encode(self, n):\n",
    "        power = int(math.log(n, 2))\n",
    "        s = 2 ** power\n",
    "        number_to_binary = n - s       \n",
    "        encoded = unary_fac(power) + binary_fac(number_to_binary, power)\n",
    "        #print(f'From {n} To {encoded}')\n",
    "        return encoded\n",
    "        \n",
    "    def decode(self, n):\n",
    "        index_of_first_1 = n.find('1')\n",
    "        power = index_of_first_1\n",
    "        binary_number = n[index_of_first_1+1:]\n",
    "        converted_binary = int(binary_number, 2)\n",
    "        return 2 ** power + converted_binary"
   ]
  },
  {
   "cell_type": "code",
   "execution_count": 5,
   "id": "e4c9f8b8-00d2-430b-a121-b9e63eddae30",
   "metadata": {},
   "outputs": [
    {
     "name": "stdout",
     "output_type": "stream",
     "text": [
      "True\n",
      "14\n",
      "28\n"
     ]
    }
   ],
   "source": [
    "e_n = 2\n",
    "e = Elias()\n",
    "e_enc = e.encode(e_n)\n",
    "e_dec = e.decode(e_enc)\n",
    "print(e_n == e_dec)\n",
    "print(sys.getsizeof(e_n))\n",
    "print(sys.getsizeof(e_enc))"
   ]
  },
  {
   "cell_type": "code",
   "execution_count": 6,
   "id": "679e2d08-ec72-4edc-813f-11e7d4de3333",
   "metadata": {},
   "outputs": [],
   "source": [
    "class Fibonacci:\n",
    "    def __init__(self):\n",
    "        pass\n",
    "    \n",
    "    def largest_fibo_less_or_equal(self, n):\n",
    "        self.fib = []\n",
    "        self.fib.append(1)\n",
    "        self.fib.append(2)\n",
    "        \n",
    "        i = 2\n",
    "        while self.fib[i - 1] <= n:\n",
    "            self.fib.append(self.fib[i - 1] + self.fib[i - 2])\n",
    "            i += 1\n",
    "        return (i - 2)\n",
    "    \n",
    "    def create_fib(self, n):\n",
    "        self.fib = []\n",
    "        self.fib.append(1)\n",
    "        self.fib.append(2)\n",
    "        \n",
    "        i = 2\n",
    "        while len(self.fib) < len(n):\n",
    "            self.fib.append(self.fib[i - 1] + self.fib[i - 2])\n",
    "            i += 1\n",
    "    \n",
    "    def encode(self, n):        \n",
    "        index = self.largest_fibo_less_or_equal(n)\n",
    "        codeword = ['a' for i in range(index + 2)]\n",
    "        i = index\n",
    "\n",
    "        while (n):\n",
    "            codeword[i] = '1'\n",
    "            n = n - self.fib[i]\n",
    "            i = i - 1\n",
    "            while (i >= 0 and self.fib[i] > n):\n",
    "                codeword[i] = '0'\n",
    "                i = i - 1\n",
    "        codeword[index + 1] = '1'\n",
    "        encoded = \"\".join(codeword)\n",
    "        return encoded\n",
    "            \n",
    "    def decode(self, n):\n",
    "        #creation on fib array\n",
    "        self.create_fib(n)\n",
    "        transformed_n = n[0:len(n)-1]\n",
    "        bits = list(transformed_n)\n",
    "        \n",
    "        indicies = np.argwhere(np.array(bits) == '1').flatten()\n",
    "        numbers = np.array(self.fib)[indicies]\n",
    "        return np.sum(numbers)"
   ]
  },
  {
   "cell_type": "code",
   "execution_count": 7,
   "id": "1d3cf293-f586-413a-a530-091b09a90536",
   "metadata": {},
   "outputs": [
    {
     "name": "stdout",
     "output_type": "stream",
     "text": [
      "True\n"
     ]
    },
    {
     "data": {
      "text/plain": [
       "'Fibonacci'"
      ]
     },
     "execution_count": 7,
     "metadata": {},
     "output_type": "execute_result"
    }
   ],
   "source": [
    "f_n = 143\n",
    "f = Fibonacci()\n",
    "f_enc = f.encode(f_n)\n",
    "f_dec = f.decode(f_enc)\n",
    "print(f_n == f_dec)\n",
    "\n",
    "type(f).__name__"
   ]
  },
  {
   "cell_type": "code",
   "execution_count": 8,
   "id": "8dea29a3-bdc7-40e4-98bb-89651e940b91",
   "metadata": {},
   "outputs": [],
   "source": [
    "path = '../6/inverted_index.json' \n",
    "\n",
    "data = None\n",
    "\n",
    "with open(path, 'r') as fp:\n",
    "    data = json.load(fp)"
   ]
  },
  {
   "cell_type": "code",
   "execution_count": 9,
   "id": "be2c1c7b-74ab-49cc-b5df-fc5b79bcb80e",
   "metadata": {},
   "outputs": [
    {
     "data": {
      "text/plain": [
       "0"
      ]
     },
     "execution_count": 9,
     "metadata": {},
     "output_type": "execute_result"
    }
   ],
   "source": [
    "len(data.keys())"
   ]
  },
  {
   "cell_type": "code",
   "execution_count": 10,
   "id": "7c9bbfa0-b137-4966-9214-d6c86e9bf1c0",
   "metadata": {},
   "outputs": [],
   "source": [
    "def run_tranformation(encoder):\n",
    "    res = {}\n",
    "    \n",
    "    for k, v in data.items():\n",
    "        encoded = []\n",
    "        for docId in v:\n",
    "            encoded.append(encoder.encode(docId))\n",
    "        res[k] = encoded \n",
    "        \n",
    "    with open(f'{type(encoder).__name__}.json', 'w') as fp:\n",
    "        json.dump(res, fp)"
   ]
  },
  {
   "cell_type": "code",
   "execution_count": 11,
   "id": "511c0eef-09ab-46cf-971c-dc4c0d883f45",
   "metadata": {},
   "outputs": [],
   "source": [
    "run_tranformation(Fibonacci())"
   ]
  },
  {
   "cell_type": "code",
   "execution_count": 12,
   "id": "1b691e93-4ad8-49c3-aacf-e8f698be1bc9",
   "metadata": {},
   "outputs": [],
   "source": [
    "run_tranformation(Elias())"
   ]
  },
  {
   "cell_type": "code",
   "execution_count": 13,
   "id": "7e827e37-3156-45ba-b64e-eb3e22a89af5",
   "metadata": {},
   "outputs": [],
   "source": [
    "def and_list(a, b):\n",
    "    a_s = set(a)\n",
    "    b_s = set(b)\n",
    "    return list(a_s.intersection(b_s))"
   ]
  },
  {
   "cell_type": "code",
   "execution_count": 14,
   "id": "7bebef83-a1f9-452b-90f6-96a11062b8a4",
   "metadata": {},
   "outputs": [],
   "source": [
    "def search(query_sequence, inverted_index):\n",
    "    res = [v.strip() for v in query_sequence.split(\"AND\")]\n",
    "    l = []\n",
    "    \n",
    "    for item in res:\n",
    "        if item == 'AND':\n",
    "            continue\n",
    "        else:\n",
    "            if len(l) == 0:\n",
    "                value = inverted_index.get(item, [])\n",
    "                l = value\n",
    "            else:\n",
    "                value = inverted_index.get(item, [])\n",
    "                l = and_list(l, value)\n",
    "    return l"
   ]
  },
  {
   "cell_type": "code",
   "execution_count": 15,
   "id": "1cc36315-cf96-4481-be53-778b337d0f3c",
   "metadata": {},
   "outputs": [],
   "source": [
    "def decode(decoder, result):\n",
    "    return [decoder.decode(docId) for docId in result]"
   ]
  },
  {
   "cell_type": "code",
   "execution_count": 16,
   "id": "ad3afafa-b3f0-4195-a3be-32b639bdd969",
   "metadata": {},
   "outputs": [],
   "source": [
    "elias = 'Elias.json'\n",
    "fib = 'Fibonacci.json'\n",
    "original = '../6/inverted_index.json' "
   ]
  },
  {
   "cell_type": "code",
   "execution_count": 17,
   "id": "746296d4-9bef-454d-a7d0-b1f0fa7cefeb",
   "metadata": {},
   "outputs": [],
   "source": [
    "def load_index(path):\n",
    "    with open(path, 'r') as fp:\n",
    "        return json.load(fp)"
   ]
  },
  {
   "cell_type": "code",
   "execution_count": 18,
   "id": "ec131d02-44e3-4ea1-9206-d53cdd880224",
   "metadata": {},
   "outputs": [],
   "source": [
    "query = \"produc AND anonym\""
   ]
  },
  {
   "cell_type": "code",
   "execution_count": 19,
   "id": "b2f680b0-40d7-4335-8831-aa3787c3a082",
   "metadata": {},
   "outputs": [],
   "source": [
    "res1 = search(query, load_index(elias))"
   ]
  },
  {
   "cell_type": "code",
   "execution_count": 20,
   "id": "4b735bf9-49f3-4f7f-b972-08b16f999d73",
   "metadata": {},
   "outputs": [
    {
     "data": {
      "text/plain": [
       "[]"
      ]
     },
     "execution_count": 20,
     "metadata": {},
     "output_type": "execute_result"
    }
   ],
   "source": [
    "decode(Elias(), res1)"
   ]
  }
 ],
 "metadata": {
  "kernelspec": {
   "display_name": "Python 3 (ipykernel)",
   "language": "python",
   "name": "python3"
  },
  "language_info": {
   "codemirror_mode": {
    "name": "ipython",
    "version": 3
   },
   "file_extension": ".py",
   "mimetype": "text/x-python",
   "name": "python",
   "nbconvert_exporter": "python",
   "pygments_lexer": "ipython3",
   "version": "3.8.6rc1"
  }
 },
 "nbformat": 4,
 "nbformat_minor": 5
}
