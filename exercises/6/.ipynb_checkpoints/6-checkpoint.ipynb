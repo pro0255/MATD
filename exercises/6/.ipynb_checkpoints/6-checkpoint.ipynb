{
 "cells": [
  {
   "cell_type": "code",
   "execution_count": 1,
   "id": "88176d1a-c67f-4a79-be33-74924e194d9c",
   "metadata": {},
   "outputs": [],
   "source": [
    "import os\n",
    "from nltk.tokenize import word_tokenize\n",
    "import pyparsing as pp"
   ]
  },
  {
   "cell_type": "code",
   "execution_count": 2,
   "id": "3e295a2e-0969-4b63-be20-3c801bfcaf2a",
   "metadata": {},
   "outputs": [],
   "source": [
    "path = f'../5/stemmed/gutenberg'"
   ]
  },
  {
   "cell_type": "code",
   "execution_count": 3,
   "id": "da356669-dde0-49e6-973b-a9ba39c27f9c",
   "metadata": {},
   "outputs": [],
   "source": [
    "def process_doc(inverted_index, doc, doc_id):\n",
    "    terms = word_tokenize(doc)\n",
    "    for term in terms:\n",
    "        value_list = inverted_index.get(term, [])\n",
    "        if not doc_id in value_list:\n",
    "            value_list.append(doc_id)\n",
    "        inverted_index[term] = value_list\n",
    "    return inverted_index"
   ]
  },
  {
   "cell_type": "code",
   "execution_count": 4,
   "id": "3a0a871d-e811-44d7-9078-644526ee5cc5",
   "metadata": {},
   "outputs": [],
   "source": [
    "def load_doc(path):\n",
    "    with open(path, 'r', encoding='utf-8') as f:\n",
    "        content = f.read()\n",
    "    return content"
   ]
  },
  {
   "cell_type": "code",
   "execution_count": 5,
   "id": "38810a95-421c-41f2-91b3-639a5775b2d6",
   "metadata": {},
   "outputs": [],
   "source": [
    "def create_index_from(path):\n",
    "    inverted_index = {}\n",
    "    for doc_id, filename in enumerate(os.listdir(path)):\n",
    "        if not filename.endswith('.txt'):\n",
    "            continue\n",
    "        doc = load_doc(os.path.join(path, filename))\n",
    "        print(filename)\n",
    "        inverted_index = process_doc(inverted_index, doc, doc_id)\n",
    "    return inverted_index"
   ]
  },
  {
   "cell_type": "code",
   "execution_count": 6,
   "id": "5b7dcd52-1613-4b98-b27d-3907fa1bfd98",
   "metadata": {},
   "outputs": [],
   "source": [
    "inverted_index = create_index_from(path)"
   ]
  },
  {
   "cell_type": "code",
   "execution_count": 7,
   "id": "22339841-8153-40e3-90da-73ce2450bb7c",
   "metadata": {},
   "outputs": [],
   "source": [
    "import json \n",
    "      \n",
    "with open('inverted_index.json', 'w') as fp:\n",
    "    json.dump(inverted_index, fp)"
   ]
  },
  {
   "cell_type": "code",
   "execution_count": 8,
   "id": "50e92885-0945-4fdd-bf5b-4cc6f582033c",
   "metadata": {},
   "outputs": [
    {
     "data": {
      "text/plain": [
       "{}"
      ]
     },
     "execution_count": 8,
     "metadata": {},
     "output_type": "execute_result"
    }
   ],
   "source": [
    "inverted_index"
   ]
  },
  {
   "cell_type": "code",
   "execution_count": 9,
   "id": "0e9396e7-97da-4877-a380-581cafb21d06",
   "metadata": {},
   "outputs": [],
   "source": [
    "def and_list(a, b):\n",
    "    a_s = set(a)\n",
    "    b_s = set(b)\n",
    "    return list(a_s.intersection(b_s))"
   ]
  },
  {
   "cell_type": "code",
   "execution_count": 10,
   "id": "b4eab6ce-1634-4ea4-bd29-e01864e1661c",
   "metadata": {},
   "outputs": [],
   "source": [
    "def search(query_sequence, inverted_index):\n",
    "    condition = pp.Word(pp.alphas) + \"AND\" + pp.Word(pp.alphas)\n",
    "    res = condition.parseString(query_sequence)\n",
    "    l = []\n",
    "    \n",
    "    for item in res:\n",
    "        if item == 'AND':\n",
    "            continue\n",
    "        else:\n",
    "            if len(l) == 0:\n",
    "                value = inverted_index.get(item, [])\n",
    "                l = value\n",
    "            else:\n",
    "                value = inverted_index.get(item, [])\n",
    "                l = and_list(l, value)\n",
    "    return l"
   ]
  },
  {
   "cell_type": "code",
   "execution_count": 11,
   "id": "99afcb71-012f-4830-9d5a-2cabf3b51ab6",
   "metadata": {},
   "outputs": [
    {
     "ename": "KeyError",
     "evalue": "'produc'",
     "output_type": "error",
     "traceback": [
      "\u001b[1;31m---------------------------------------------------------------------------\u001b[0m",
      "\u001b[1;31mKeyError\u001b[0m                                  Traceback (most recent call last)",
      "\u001b[1;32m~\\AppData\\Local\\Temp/ipykernel_20632/1896830689.py\u001b[0m in \u001b[0;36m<module>\u001b[1;34m\u001b[0m\n\u001b[1;32m----> 1\u001b[1;33m \u001b[0mand_list\u001b[0m\u001b[1;33m(\u001b[0m\u001b[0minverted_index\u001b[0m\u001b[1;33m[\u001b[0m\u001b[1;34m'produc'\u001b[0m\u001b[1;33m]\u001b[0m\u001b[1;33m,\u001b[0m \u001b[0minverted_index\u001b[0m\u001b[1;33m[\u001b[0m\u001b[1;34m'anonym'\u001b[0m\u001b[1;33m]\u001b[0m\u001b[1;33m)\u001b[0m\u001b[1;33m\u001b[0m\u001b[1;33m\u001b[0m\u001b[0m\n\u001b[0m",
      "\u001b[1;31mKeyError\u001b[0m: 'produc'"
     ]
    }
   ],
   "source": [
    "and_list(inverted_index['produc'], inverted_index['anonym'])"
   ]
  },
  {
   "cell_type": "code",
   "execution_count": null,
   "id": "a82c8120-0d86-494b-a7f2-badc9b24dc13",
   "metadata": {},
   "outputs": [],
   "source": [
    "query = \"produc AND anonym\""
   ]
  },
  {
   "cell_type": "code",
   "execution_count": null,
   "id": "b5f75f5f-c50e-4615-aedc-139da14666ea",
   "metadata": {},
   "outputs": [],
   "source": [
    "search(query, inverted_index)"
   ]
  },
  {
   "cell_type": "code",
   "execution_count": null,
   "id": "af848dff-9293-4aea-9284-3de5f9e89d33",
   "metadata": {},
   "outputs": [],
   "source": [
    "query1 = \"letter AND men\"\n",
    "res = search(query1, inverted_index)"
   ]
  },
  {
   "cell_type": "code",
   "execution_count": null,
   "id": "d11cf098-3a03-48bd-8696-63d5ca422607",
   "metadata": {},
   "outputs": [],
   "source": [
    "len(res)"
   ]
  },
  {
   "cell_type": "code",
   "execution_count": null,
   "id": "1840c3f9-8444-4a30-b270-58ff1d3d67da",
   "metadata": {},
   "outputs": [],
   "source": []
  }
 ],
 "metadata": {
  "kernelspec": {
   "display_name": "Python 3 (ipykernel)",
   "language": "python",
   "name": "python3"
  },
  "language_info": {
   "codemirror_mode": {
    "name": "ipython",
    "version": 3
   },
   "file_extension": ".py",
   "mimetype": "text/x-python",
   "name": "python",
   "nbconvert_exporter": "python",
   "pygments_lexer": "ipython3",
   "version": "3.8.6rc1"
  }
 },
 "nbformat": 4,
 "nbformat_minor": 5
}
